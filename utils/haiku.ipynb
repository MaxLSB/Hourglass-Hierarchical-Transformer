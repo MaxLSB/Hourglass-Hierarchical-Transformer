{
 "cells": [
  {
   "cell_type": "code",
   "execution_count": 2,
   "metadata": {},
   "outputs": [],
   "source": [
    "import pandas as pd\n",
    "import numpy as np"
   ]
  },
  {
   "cell_type": "code",
   "execution_count": 3,
   "metadata": {},
   "outputs": [
    {
     "data": {
      "text/html": [
       "<div>\n",
       "<style scoped>\n",
       "    .dataframe tbody tr th:only-of-type {\n",
       "        vertical-align: middle;\n",
       "    }\n",
       "\n",
       "    .dataframe tbody tr th {\n",
       "        vertical-align: top;\n",
       "    }\n",
       "\n",
       "    .dataframe thead th {\n",
       "        text-align: right;\n",
       "    }\n",
       "</style>\n",
       "<table border=\"1\" class=\"dataframe\">\n",
       "  <thead>\n",
       "    <tr style=\"text-align: right;\">\n",
       "      <th></th>\n",
       "      <th>Unnamed: 0</th>\n",
       "      <th>0</th>\n",
       "      <th>1</th>\n",
       "      <th>2</th>\n",
       "      <th>source</th>\n",
       "      <th>hash</th>\n",
       "    </tr>\n",
       "  </thead>\n",
       "  <tbody>\n",
       "    <tr>\n",
       "      <th>0</th>\n",
       "      <td>0</td>\n",
       "      <td>fishing boats</td>\n",
       "      <td>colors of</td>\n",
       "      <td>the rainbow</td>\n",
       "      <td>tempslibres</td>\n",
       "      <td>FISHINGBOATSCOLORSOFTHERAINBOW</td>\n",
       "    </tr>\n",
       "    <tr>\n",
       "      <th>1</th>\n",
       "      <td>1</td>\n",
       "      <td>ash wednesday--</td>\n",
       "      <td>trying to remember</td>\n",
       "      <td>my dream</td>\n",
       "      <td>tempslibres</td>\n",
       "      <td>ASHWEDNESDAYTRYINGTOREMEMBERMYDREAM</td>\n",
       "    </tr>\n",
       "    <tr>\n",
       "      <th>2</th>\n",
       "      <td>2</td>\n",
       "      <td>snowy morn--</td>\n",
       "      <td>pouring another cup</td>\n",
       "      <td>of black coffee</td>\n",
       "      <td>tempslibres</td>\n",
       "      <td>SNOWYMORNPOURINGANOTHERCUPOFBLACKCOFFEE</td>\n",
       "    </tr>\n",
       "    <tr>\n",
       "      <th>3</th>\n",
       "      <td>3</td>\n",
       "      <td>shortest day</td>\n",
       "      <td>flames dance</td>\n",
       "      <td>in the oven</td>\n",
       "      <td>tempslibres</td>\n",
       "      <td>SHORTESTDAYFLAMESDANCEINTHEOVEN</td>\n",
       "    </tr>\n",
       "    <tr>\n",
       "      <th>4</th>\n",
       "      <td>4</td>\n",
       "      <td>haze</td>\n",
       "      <td>half the horse hidden</td>\n",
       "      <td>behind the house</td>\n",
       "      <td>tempslibres</td>\n",
       "      <td>HAZEHALFTHEHORSEHIDDENBEHINDTHEHOUSE</td>\n",
       "    </tr>\n",
       "  </tbody>\n",
       "</table>\n",
       "</div>"
      ],
      "text/plain": [
       "   Unnamed: 0                0                      1                 2  \\\n",
       "0           0    fishing boats              colors of       the rainbow   \n",
       "1           1  ash wednesday--    trying to remember           my dream   \n",
       "2           2     snowy morn--    pouring another cup   of black coffee   \n",
       "3           3     shortest day           flames dance       in the oven   \n",
       "4           4             haze  half the horse hidden  behind the house   \n",
       "\n",
       "        source                                     hash  \n",
       "0  tempslibres           FISHINGBOATSCOLORSOFTHERAINBOW  \n",
       "1  tempslibres      ASHWEDNESDAYTRYINGTOREMEMBERMYDREAM  \n",
       "2  tempslibres  SNOWYMORNPOURINGANOTHERCUPOFBLACKCOFFEE  \n",
       "3  tempslibres          SHORTESTDAYFLAMESDANCEINTHEOVEN  \n",
       "4  tempslibres     HAZEHALFTHEHORSEHIDDENBEHINDTHEHOUSE  "
      ]
     },
     "execution_count": 3,
     "metadata": {},
     "output_type": "execute_result"
    }
   ],
   "source": [
    "df = pd.read_csv('datasets/all_haiku.csv')\n",
    "df.head()"
   ]
  },
  {
   "cell_type": "code",
   "execution_count": 4,
   "metadata": {},
   "outputs": [],
   "source": [
    "# Making the haikus dataset\n",
    "file_name = 'datasets/haiku-dataset.txt'\n",
    "with open(file_name, 'w', encoding='utf-8') as f:\n",
    "    # Iterate through each row in the DataFrame\n",
    "    for index, row in df.iterrows():\n",
    "        # Create a line with the values from columns '0', '1', and '2'\n",
    "        line = f\"{row['0']}\\n{row['1']}\\n{row['2']}\"\n",
    "        # Write the line to the file\n",
    "        f.write(line) \n",
    "\n",
    "# Note: Should I make the haikus lowercase only?"
   ]
  },
  {
   "cell_type": "markdown",
   "metadata": {},
   "source": [
    "# Poetry Foundation Dataset"
   ]
  },
  {
   "cell_type": "code",
   "execution_count": 12,
   "metadata": {},
   "outputs": [
    {
     "name": "stdout",
     "output_type": "stream",
     "text": [
      "c:\\Users\\mlasb\\Desktop\\Travail 2024-2025\\Projets\\nlp-project\n",
      "Done writing datasets/poems-combined.txt\n"
     ]
    }
   ],
   "source": [
    "import os\n",
    "\n",
    "# Using the poem dataset\n",
    "dataset_path = 'datasets/poem-dataset'\n",
    "text = ''\n",
    "\n",
    "print(os.getcwd())\n",
    "\n",
    "for root, dirs, files in os.walk(dataset_path):\n",
    "    for file in files:\n",
    "        if file.endswith('.txt'):  # Only process .txt files\n",
    "            file_path = os.path.join(root, file)\n",
    "            with open(file_path, 'r', encoding='utf-8') as f:\n",
    "                text += f.read() + '\\n'  # Concatenate text content\n",
    "\n",
    "# Combining and saving the stories in a single file\n",
    "dataset_combined = 'datasets/poems-combined.txt'\n",
    "with open(dataset_combined, 'w', encoding='utf-8') as f:\n",
    "    f.write(text)\n",
    "    print(f'Done writing {dataset_combined}')"
   ]
  },
  {
   "cell_type": "markdown",
   "metadata": {},
   "source": [
    "# Books Corpus Dataset"
   ]
  },
  {
   "cell_type": "code",
   "execution_count": 21,
   "metadata": {},
   "outputs": [
    {
     "name": "stdout",
     "output_type": "stream",
     "text": [
      "Done.\n",
      "251678876\n",
      "the half-ling book one in the fall of igneeria series kaylee soderburg copyright 2013 kaylee soderburg all rights reserved .\n",
      "isbn : 1492913731 isbn-13 : 978-1492913733 for my family , who encouraged me to never stop fighting for my dreams chapter 1 summer vacations supposed to be fun , right ?\n",
      "i wish i had a better answer to that question .\n",
      "starlings , new york is not the place youd expect much to happen .\n",
      "its a small quiet town , the kind where everyone knows your name .\n",
      "its a place where your parents wouldnt even care if you stayed out late biking with your friends .\n",
      "only because everyone felt so safe , so comfy .\n",
      "they dont know the half of it .\n",
      "but i do .\n",
      "i know it all and starlings is not the place where you want to be after dark .\n",
      "the only reason why no one knows this is because jason , emily , seth and i have kept it that way .\n",
      "i walked along the empty road alone , occasionally waving to passing kids on bikes .\n",
      "my backpack was slung over my shoulder , filled with my writing books\n"
     ]
    }
   ],
   "source": [
    "dataset_path = 'datasets/books_corpus.txt'\n",
    "reduced_dataset_path = 'datasets/reduced_books_corpus.txt'\n",
    "\n",
    "with open(dataset_path, 'r', encoding='utf-8') as f:\n",
    "    text = f.read()\n",
    "\n",
    "data_length = len(text)\n",
    "reduced_size = data_length // 10\n",
    "text = text[:reduced_size]\n",
    "\n",
    "with open(reduced_dataset_path, 'w', encoding='utf-8') as f:\n",
    "    f.write(text)\n",
    "print('Done.')\n",
    "print(len(text))\n",
    "print(text[:1000])"
   ]
  }
 ],
 "metadata": {
  "kernelspec": {
   "display_name": "Python 3",
   "language": "python",
   "name": "python3"
  },
  "language_info": {
   "codemirror_mode": {
    "name": "ipython",
    "version": 3
   },
   "file_extension": ".py",
   "mimetype": "text/x-python",
   "name": "python",
   "nbconvert_exporter": "python",
   "pygments_lexer": "ipython3",
   "version": "3.12.7"
  }
 },
 "nbformat": 4,
 "nbformat_minor": 2
}
